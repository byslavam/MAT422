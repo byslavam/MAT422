{
  "nbformat": 4,
  "nbformat_minor": 0,
  "metadata": {
    "colab": {
      "provenance": [],
      "authorship_tag": "ABX9TyMz2CTh+WWF8Lsj8GPM84ge",
      "include_colab_link": true
    },
    "kernelspec": {
      "name": "python3",
      "display_name": "Python 3"
    },
    "language_info": {
      "name": "python"
    }
  },
  "cells": [
    {
      "cell_type": "markdown",
      "metadata": {
        "id": "view-in-github",
        "colab_type": "text"
      },
      "source": [
        "<a href=\"https://colab.research.google.com/github/byslavam/MAT422/blob/main/3_2_Continunity_and_Differentiation.ipynb\" target=\"_parent\"><img src=\"https://colab.research.google.com/assets/colab-badge.svg\" alt=\"Open In Colab\"/></a>"
      ]
    },
    {
      "cell_type": "code",
      "execution_count": 1,
      "metadata": {
        "id": "JSqkzmwUGZz1"
      },
      "outputs": [],
      "source": [
        "import matplotlib.pyplot as plt\n",
        "import numpy as np\n",
        "from sympy import diff, limit, ln, sin, symbols"
      ]
    },
    {
      "cell_type": "markdown",
      "source": [
        "# **Limits and Continunity**\n",
        "Limits are essential to calculus and mathematical analysis, and are used to\n",
        "define continuity, derivatives, and integrals\n",
        "\n",
        "## **Euclidian Norm**\n",
        "$||x||=\\sqrt{Σ_{i=1}^{d}x_{i}^{2}}$"
      ],
      "metadata": {
        "id": "xHdSt0f-Ictj"
      }
    },
    {
      "cell_type": "code",
      "source": [
        "#Function of Euclidian Norm on Python\n",
        "def norm(X):\n",
        "    \"\"\"Euclidean Norm\"\"\"\n",
        "    return np.sqrt(np.sum(X**2))"
      ],
      "metadata": {
        "id": "WwgjBli8KEgn"
      },
      "execution_count": 2,
      "outputs": []
    },
    {
      "cell_type": "markdown",
      "source": [
        "## **Continunity/Continuous Functions**\n",
        "Continuous function is a function that does not have any abrupt changes\n",
        "in value, known as discontinuities. The is said to be continuous if:\n",
        "\n",
        "$\\lim_{x \\to a} f(x) = f(a)$\n",
        "\n"
      ],
      "metadata": {
        "id": "fEpxLmYTKNKT"
      }
    },
    {
      "cell_type": "code",
      "source": [
        "# Make x a symbolic value as opposed to variable\n",
        "x = symbols('x')"
      ],
      "metadata": {
        "id": "VR768zn_NuLo"
      },
      "execution_count": 3,
      "outputs": []
    },
    {
      "cell_type": "code",
      "source": [
        "# Example of symbolic continous function\n",
        "_fxs = [\n",
        "    x,\n",
        "    x*x,\n",
        "    x*x*x,\n",
        "    1/x,\n",
        "    sin(x),\n",
        "    ln(x),\n",
        "    x*sin(x)/ln(x)\n",
        "]"
      ],
      "metadata": {
        "id": "ZHFyQoyPNySl"
      },
      "execution_count": 6,
      "outputs": []
    },
    {
      "cell_type": "code",
      "source": [
        "# Find the limit for each function\n",
        "for _fx in _fxs:\n",
        "    print(\"f(x) = \", _fx)\n",
        "    print(\"-\"*(len(_fx.__str__())+8))\n",
        "\n",
        "    print(\"Limits:\")\n",
        "    print(\"\\t -oo: \",  limit(_fx, x, \"-oo\"))\n",
        "    print(\"\\t -2:  \",  limit(_fx, x, -1))\n",
        "    print(\"\\t 0:   \",  limit(_fx, x, 0))\n",
        "    print(\"\\t 3:   \",  limit(_fx, x, 1))\n",
        "    print(\"\\t oo:  \",  limit(_fx, x, \"oo\"))\n",
        "    print()"
      ],
      "metadata": {
        "colab": {
          "base_uri": "https://localhost:8080/"
        },
        "id": "se6Nsm9fKMfJ",
        "outputId": "9546ddb2-8d08-4770-a11d-02a3fd87c5a9"
      },
      "execution_count": 7,
      "outputs": [
        {
          "output_type": "stream",
          "name": "stdout",
          "text": [
            "f(x) =  x\n",
            "---------\n",
            "Limits:\n",
            "\t -oo:  -oo\n",
            "\t -2:   -1\n",
            "\t 0:    0\n",
            "\t 3:    1\n",
            "\t oo:   oo\n",
            "\n",
            "f(x) =  x**2\n",
            "------------\n",
            "Limits:\n",
            "\t -oo:  oo\n",
            "\t -2:   1\n",
            "\t 0:    0\n",
            "\t 3:    1\n",
            "\t oo:   oo\n",
            "\n",
            "f(x) =  x**3\n",
            "------------\n",
            "Limits:\n",
            "\t -oo:  -oo\n",
            "\t -2:   -1\n",
            "\t 0:    0\n",
            "\t 3:    1\n",
            "\t oo:   oo\n",
            "\n",
            "f(x) =  1/x\n",
            "-----------\n",
            "Limits:\n",
            "\t -oo:  0\n",
            "\t -2:   -1\n",
            "\t 0:    oo\n",
            "\t 3:    1\n",
            "\t oo:   0\n",
            "\n",
            "f(x) =  sin(x)\n",
            "--------------\n",
            "Limits:\n",
            "\t -oo:  AccumBounds(-1, 1)\n",
            "\t -2:   -sin(1)\n",
            "\t 0:    0\n",
            "\t 3:    sin(1)\n",
            "\t oo:   AccumBounds(-1, 1)\n",
            "\n",
            "f(x) =  log(x)\n",
            "--------------\n",
            "Limits:\n",
            "\t -oo:  oo\n",
            "\t -2:   I*pi\n",
            "\t 0:    -oo\n",
            "\t 3:    0\n",
            "\t oo:   oo\n",
            "\n",
            "f(x) =  x*sin(x)/log(x)\n",
            "-----------------------\n",
            "Limits:\n",
            "\t -oo:  oo*sign(AccumBounds(-1, 1))\n",
            "\t -2:   -I*sin(1)/pi\n",
            "\t 0:    0\n",
            "\t 3:    oo\n",
            "\t oo:   oo*sign(AccumBounds(-1, 1))\n",
            "\n"
          ]
        }
      ]
    },
    {
      "cell_type": "markdown",
      "source": [
        "## **Derivatives**\n",
        "The derivative of a function of a real variable measures the sensitivity to\n",
        "change of the function value (output value) with respect to another variable.\n",
        "We begin by reviewing the sigle-variable case.\n",
        "### **Fundamental Therom of Calculus**\n",
        "$f^{'}(x) = \\frac{df(x)}{dx} = \\lim_{h\\to 0}\\frac{f(x+h)-f(x)}{h}$\n"
      ],
      "metadata": {
        "id": "CSRvhl-UOhO6"
      }
    },
    {
      "cell_type": "code",
      "source": [
        "# Find the limit for each function defined earlier\n",
        "for _fx in _fxs:\n",
        "    print(\"f(x) = \", _fx)\n",
        "\n",
        "    _fprime = _fx.diff(x)\n",
        "    print(\"f'(x) = \", _fprime)\n",
        "    print(\"-\"*(len(_fprime.__str__())+9) + \"\\n\")"
      ],
      "metadata": {
        "colab": {
          "base_uri": "https://localhost:8080/"
        },
        "id": "uxR5Gg-JIZ83",
        "outputId": "adbc6491-a409-4ee3-9a4e-7bbd9b2b1a42"
      },
      "execution_count": 8,
      "outputs": [
        {
          "output_type": "stream",
          "name": "stdout",
          "text": [
            "f(x) =  x\n",
            "f'(x) =  1\n",
            "----------\n",
            "\n",
            "f(x) =  x**2\n",
            "f'(x) =  2*x\n",
            "------------\n",
            "\n",
            "f(x) =  x**3\n",
            "f'(x) =  3*x**2\n",
            "---------------\n",
            "\n",
            "f(x) =  1/x\n",
            "f'(x) =  -1/x**2\n",
            "----------------\n",
            "\n",
            "f(x) =  sin(x)\n",
            "f'(x) =  cos(x)\n",
            "---------------\n",
            "\n",
            "f(x) =  log(x)\n",
            "f'(x) =  1/x\n",
            "------------\n",
            "\n",
            "f(x) =  x*sin(x)/log(x)\n",
            "f'(x) =  x*cos(x)/log(x) + sin(x)/log(x) - sin(x)/log(x)**2\n",
            "-----------------------------------------------------------\n",
            "\n"
          ]
        }
      ]
    },
    {
      "cell_type": "markdown",
      "source": [
        "### **Directional Derivative**\n",
        "The directional derivative of a multivariate differentiable (scalar) function\n",
        "along a given vector intuitively measure the rate of change of a function\n",
        "along the direction.\n",
        "\n",
        "$\\frac{δf(x)}{δ\\textbf{v}} = lim_{h\\to 0}\\frac{f(x+h\\textbf{v})- f(x)}{h}$"
      ],
      "metadata": {
        "id": "0ugKrgSpQo7V"
      }
    },
    {
      "cell_type": "markdown",
      "source": [
        "## **Taylor’s Theorem**\n",
        "Taylor’s theorem gives an approximation of a differentiable function around\n",
        "a given point by a polynomial.\n",
        "\n",
        "Suppose $f$ has a $m$ times continuous derivative on $[a, b]$. Then...\n",
        "\n",
        "$f(b) = f(a)+(b-a)f^{'}(a)+\\frac{1}{2}(b-a)^2f^{''}(a)+...+\\frac{(b-a)^{m-1}}{(m-1)!}f^{(m-1)}(a)+R_m$"
      ],
      "metadata": {
        "id": "vMZ-UzrwTegP"
      }
    }
  ]
}