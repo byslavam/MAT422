{
  "nbformat": 4,
  "nbformat_minor": 0,
  "metadata": {
    "colab": {
      "provenance": [],
      "authorship_tag": "ABX9TyO0F8WRmtpeXi3etJqEIQgd",
      "include_colab_link": true
    },
    "kernelspec": {
      "name": "python3",
      "display_name": "Python 3"
    },
    "language_info": {
      "name": "python"
    }
  },
  "cells": [
    {
      "cell_type": "markdown",
      "metadata": {
        "id": "view-in-github",
        "colab_type": "text"
      },
      "source": [
        "<a href=\"https://colab.research.google.com/github/byslavam/MAT422/blob/main/1_2_Elements_of_Linear_Algebra.ipynb\" target=\"_parent\"><img src=\"https://colab.research.google.com/assets/colab-badge.svg\" alt=\"Open In Colab\"/></a>"
      ]
    },
    {
      "cell_type": "code",
      "source": [
        "import numpy as np\n",
        "from PIL import Image"
      ],
      "metadata": {
        "id": "Oz43p8w-GqT2"
      },
      "execution_count": 19,
      "outputs": []
    },
    {
      "cell_type": "markdown",
      "source": [
        "# **Elements of Linear Algebra**\n",
        "## **Main Concepts**\n",
        "\n",
        "\n",
        "1.  Linear Spaces\n",
        "2.  Orthogonality\n",
        "3. Gram-Schmidt Process\n",
        "4. Eigenvalues and Eigenvectors\n",
        "\n",
        "\n"
      ],
      "metadata": {
        "id": "lhEIepXsCNVj"
      }
    },
    {
      "cell_type": "markdown",
      "source": [
        "## **Linear Spaces**\n",
        "#### Linear Combinations\n",
        "A linear combonation is a vector constructed from a subset by multiplying eac vector by a constant and affing the results.\n"
      ],
      "metadata": {
        "id": "cJvhn6aeEp8K"
      }
    },
    {
      "cell_type": "code",
      "source": [
        "# Linear Combination\n",
        "vector_a = np.array([2,3])\n",
        "vector_b = np.array([-1,1])\n",
        "\n",
        "constant1 = 3\n",
        "constant2 = -2\n",
        "\n",
        "result_vector = (constant1 * vector_a) + (constant2*vector_b)\n",
        "\n",
        "print(\"Linear Combination:\", result_vector)"
      ],
      "metadata": {
        "colab": {
          "base_uri": "https://localhost:8080/"
        },
        "id": "IKP4M0KnGN1x",
        "outputId": "b7dab54a-10b9-4153-dd48-074d072e035e"
      },
      "execution_count": 2,
      "outputs": [
        {
          "output_type": "stream",
          "name": "stdout",
          "text": [
            "Linear Combination: [8 7]\n"
          ]
        }
      ]
    },
    {
      "cell_type": "markdown",
      "source": [
        "A linear subspace is a subet that is closed under vector addition and scalar multiplication.\n",
        "\n",
        "\n",
        "*   0 is always in a linear subspace\n",
        "*   A span of a set of vector is a linear subspace, which is the set of all liner combinations of the subspace.\n",
        "\n",
        "\n"
      ],
      "metadata": {
        "id": "tHqxgsybHpOw"
      }
    },
    {
      "cell_type": "markdown",
      "source": [
        "#### Linear Independence and Dimension\n",
        "A list of vectors are linearly independent if none of them can be written as a linear combination of the others"
      ],
      "metadata": {
        "id": "LLEupPCVIqhZ"
      }
    },
    {
      "cell_type": "code",
      "execution_count": 11,
      "metadata": {
        "colab": {
          "base_uri": "https://localhost:8080/"
        },
        "id": "30OvnmhMBcpU",
        "outputId": "16de8763-fdc2-49fd-a16d-57dc5dee6ec4"
      },
      "outputs": [
        {
          "output_type": "stream",
          "name": "stdout",
          "text": [
            "The vectors of Matrix A are linearly independent.\n"
          ]
        }
      ],
      "source": [
        "v1 = np.array([1, 0, 0])\n",
        "v2 = np.array([0, 1, 0])\n",
        "v3 = np.array([0, 0, 1])\n",
        "\n",
        "matrixA = np.column_stack((v1, v2, v3))\n",
        "\n",
        "rank = np.linalg.matrix_rank(matrixA)\n",
        "\n",
        "if rank == len(v1):\n",
        "    print(\"The vectors of Matrix A are linearly independent.\")\n",
        "else:\n",
        "    print(\"The vectors Matrix B are linearly dependent.\")"
      ]
    },
    {
      "cell_type": "code",
      "source": [
        "v1 = np.array([1, 2, 3])\n",
        "v2 = np.array([4, 5, 6])\n",
        "v3 = np.array([7, 8, 9])\n",
        "\n",
        "matrixA = np.column_stack((v1, v2, v3))\n",
        "\n",
        "rank = np.linalg.matrix_rank(matrixA)\n",
        "\n",
        "if rank == len(v1):\n",
        "    print(\"The vectors of Matrix B are linearly independent.\")\n",
        "else:\n",
        "    print(\"The vectors Matrix B are linearly dependent.\")"
      ],
      "metadata": {
        "colab": {
          "base_uri": "https://localhost:8080/"
        },
        "id": "T0D6x2xPOPgE",
        "outputId": "085af43f-89d3-4fd7-f1c4-681e70276662"
      },
      "execution_count": 14,
      "outputs": [
        {
          "output_type": "stream",
          "name": "stdout",
          "text": [
            "The vectors Matrix B are linearly dependent.\n"
          ]
        }
      ]
    },
    {
      "cell_type": "markdown",
      "source": [
        "## **Orthogonality**\n",
        "A set of vectors are orthogonal if they are perpendicular to each other. A set of vectors are orthonormal iff the dot product of vectors are equal to 0.\n"
      ],
      "metadata": {
        "id": "fQiVOOvvOj6e"
      }
    },
    {
      "cell_type": "markdown",
      "source": [
        "## **Gram-Schmidt Process**\n",
        "The Gram-Schmidt algorithm is also used to obtain the orthonormal basis of a set of vectors. The algorithm uses the properties of projection.\n",
        "![1200px-Gram–Schmidt_process.svg.png](data:image/png;base64,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)"
      ],
      "metadata": {
        "id": "qXBecOTOQLEO"
      }
    },
    {
      "cell_type": "code",
      "source": [
        "# Implementation of the Gram-Schmidt in Python (adapted from https://zerobone.net/blog/cs/gram-schmidt-orthogonalization/)\n",
        "import numpy as np\n",
        "\n",
        "#This function takes Matrix A as input and performs the Gram-Schmidt process\n",
        "def gram_schmidt(A):\n",
        "\n",
        "    (n, m) = A.shape # retrives the number of rows and and columns\n",
        "\n",
        "    for i in range(m): #iterates through each column of the matrix\n",
        "\n",
        "        q = A[:, i] # i-th column of A that will be orthoganlized\n",
        "\n",
        "        for j in range(i):\n",
        "            q = q - np.dot(A[:, j], A[:, i]) * A[:, j] #subtracts the projects of q onto the orthognalized vectors from 1\n",
        "\n",
        "        if np.array_equal(q, np.zeros(q.shape)):\n",
        "            raise np.linalg.LinAlgError(\"The column vectors are not linearly independent\") #ensures that columns are linearly independent\n",
        "\n",
        "        # normalizes q by dividing q by its magnitude\n",
        "        q = q / np.sqrt(np.dot(q, q))\n",
        "\n",
        "        # writes the vector back in the matrix\n",
        "        A[:, i] = q"
      ],
      "metadata": {
        "id": "_nzPEwG0SXr9"
      },
      "execution_count": null,
      "outputs": []
    },
    {
      "cell_type": "markdown",
      "source": [
        "## **Eigenvalues and Eigenvectors**\n",
        "For **λ** to be an eigenvalue, there must be a nonzero eigenvector such that **Ax = λx**.\n",
        "\n",
        "\n",
        "![matlab-eigenvalues-and-eigenvectors.png](data:image/png;base64,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)"
      ],
      "metadata": {
        "id": "_ddRe5LsXO_Z"
      }
    }
  ]
}